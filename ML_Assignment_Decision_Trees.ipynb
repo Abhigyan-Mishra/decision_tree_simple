{
 "cells": [
  {
   "cell_type": "markdown",
   "metadata": {
    "id": "TJdNjxC4d04k"
   },
   "source": [
    "## Assignment - Decision Trees\n",
    "---"
   ]
  },
  {
   "cell_type": "markdown",
   "metadata": {
    "id": "YuNzy04Ck0o-"
   },
   "source": [
    "> Kinshuk Vasisht (19)  \n",
    "> M.Sc. Computer Science"
   ]
  },
  {
   "cell_type": "markdown",
   "metadata": {
    "id": "IMbfjGgheADU"
   },
   "source": [
    "### Prerequisites:"
   ]
  },
  {
   "cell_type": "code",
   "execution_count": 1,
   "metadata": {
    "id": "LCL4zbmZhJgL"
   },
   "outputs": [],
   "source": [
    "import math\n",
    "\n",
    "import numpy\n",
    "import pandas\n",
    "import graphviz\n",
    "\n",
    "from matplotlib import pyplot\n",
    "from sklearn import metrics, model_selection"
   ]
  },
  {
   "cell_type": "code",
   "execution_count": 2,
   "metadata": {
    "colab": {
     "base_uri": "https://localhost:8080/"
    },
    "id": "h44NwW6RdhGz",
    "outputId": "40ab002e-b145-450a-e9e7-dc4e95348ed8"
   },
   "outputs": [
    {
     "ename": "ModuleNotFoundError",
     "evalue": "No module named 'google.colab'",
     "output_type": "error",
     "traceback": [
      "\u001b[0;31m---------------------------------------------------------------------------\u001b[0m",
      "\u001b[0;31mModuleNotFoundError\u001b[0m                       Traceback (most recent call last)",
      "\u001b[0;32m<ipython-input-2-bf1647b42bbd>\u001b[0m in \u001b[0;36m<module>\u001b[0;34m\u001b[0m\n\u001b[0;32m----> 1\u001b[0;31m \u001b[0;32mfrom\u001b[0m \u001b[0mgoogle\u001b[0m\u001b[0;34m.\u001b[0m\u001b[0mcolab\u001b[0m \u001b[0;32mimport\u001b[0m \u001b[0mdrive\u001b[0m\u001b[0;34m\u001b[0m\u001b[0;34m\u001b[0m\u001b[0m\n\u001b[0m\u001b[1;32m      2\u001b[0m \u001b[0mdrive\u001b[0m\u001b[0;34m.\u001b[0m\u001b[0mmount\u001b[0m\u001b[0;34m(\u001b[0m\u001b[0;34m\"/content/drive\"\u001b[0m\u001b[0;34m)\u001b[0m\u001b[0;34m\u001b[0m\u001b[0;34m\u001b[0m\u001b[0m\n",
      "\u001b[0;31mModuleNotFoundError\u001b[0m: No module named 'google.colab'"
     ]
    }
   ],
   "source": [
    "from google.colab import drive\n",
    "drive.mount(\"/content/drive\")"
   ]
  },
  {
   "cell_type": "code",
   "execution_count": null,
   "metadata": {
    "id": "c2zSOp1cdzW9"
   },
   "outputs": [],
   "source": [
    "import os\n",
    "os.chdir(\"/content/drive/MyDrive/Datasets\")"
   ]
  },
  {
   "cell_type": "markdown",
   "metadata": {
    "id": "5nmEGUr4eDSt"
   },
   "source": [
    "### Implementation of the Decision Tree Classifier:"
   ]
  },
  {
   "cell_type": "markdown",
   "metadata": {
    "id": "hSx7TsZT1ktP"
   },
   "source": [
    "#### Utility functions:"
   ]
  },
  {
   "cell_type": "code",
   "execution_count": 3,
   "metadata": {
    "id": "WphxNnXd1vW3"
   },
   "outputs": [],
   "source": [
    "def cache_result(target, destination = None):\n",
    "    \"\"\" Caches the return value of a wrapped function.\n",
    "\n",
    "    ### Args:\n",
    "        `target (str)`: Object attribute to store the cached result in.\n",
    "        `destination (str, optional)`: Key to store the result in.\n",
    "            Defaults to `None`, in which case the function name is used.\n",
    "    \"\"\"\n",
    "    def cache_return_value(function):\n",
    "        def _cache_return_value(self, *args, **kwargs):\n",
    "            precomputed = getattr(self, target)\n",
    "            old_value = precomputed.get(destination or function.__name__, None)\n",
    "            if old_value is None:\n",
    "                old_value = function(self, *args, **kwargs)\n",
    "                precomputed[destination or function.__name__] = old_value\n",
    "            return old_value\n",
    "        return _cache_return_value\n",
    "    return cache_return_value"
   ]
  },
  {
   "cell_type": "markdown",
   "metadata": {
    "id": "ClzPZanI1VAi"
   },
   "source": [
    "#### Individual Node of the decision tree, for maintaining the nested structure:"
   ]
  },
  {
   "cell_type": "code",
   "execution_count": 4,
   "metadata": {
    "id": "m4QItt649NPq"
   },
   "outputs": [],
   "source": [
    "class DTClassifierNode:\n",
    "    \"\"\" Individual node of a decision tree. \"\"\"\n",
    "\n",
    "    criteria = [\n",
    "        'gini_index',\n",
    "        'entropy',\n",
    "        'misclassification_error'\n",
    "    ]\n",
    "    operators = {\n",
    "        '<': lambda x: lambda y: float(x) < float(y),\n",
    "        '>': lambda x: lambda y: float(x) > float(y),\n",
    "        '=': lambda x: lambda y: str(x) == str(y)\n",
    "    }\n",
    "\n",
    "    def __init__(self, classes, instances, responses):\n",
    "        \"\"\" Creates a new node for a decision tree.\n",
    "\n",
    "        Args:\n",
    "            `classes (list[str])`: Class labels for the entire dataset\n",
    "            `instances (pandas.DataFrame)`: Dataframe of features.\n",
    "            `responses (pandas.Series)`: Series of target values.\n",
    "        \"\"\"\n",
    "        self.instances = instances\n",
    "        self.responses = responses\n",
    "        self.labels    = classes\n",
    "\n",
    "        self.attribute   = None\n",
    "        self.operator    = None\n",
    "        self.children    = None\n",
    "        self.precomputed = {}\n",
    "\n",
    "        self.invalidate()\n",
    "\n",
    "    @property\n",
    "    @cache_result('precomputed')\n",
    "    def majority_class(self):\n",
    "        \"\"\" Returns the majority class at the node. \"\"\"\n",
    "        return max(self._classes, key = self._classes.get)\n",
    "\n",
    "    def invalidate(self):\n",
    "        \"\"\"\n",
    "            Invalidate computed information such as majority class\n",
    "            and value for impurity metrics.\n",
    "        \"\"\"\n",
    "        self._classes = { label: 0 for label in self.labels }\n",
    "        for value in self.responses: self._classes[value] += 1\n",
    "        self._instance_count = len(self.responses)\n",
    "        for value in self.precomputed: self.precomputed[value] = None\n",
    "\n",
    "    @property\n",
    "    @cache_result('precomputed')\n",
    "    def gini_index(self):\n",
    "        \"\"\" Gini Index: 1 - sum(p(i|m) ^ 2) \"\"\"\n",
    "        if self._instance_count == 0: return 0.0\n",
    "        return 1.0 - sum(\n",
    "            (class_instance_count / self._instance_count) ** 2\n",
    "            for class_instance_count in self._classes.values()\n",
    "        )\n",
    "\n",
    "    @property\n",
    "    @cache_result('precomputed')\n",
    "    def entropy(self):\n",
    "        \"\"\" Entropy: - sum(p(i|m) * log2(p(i|m))) \"\"\"\n",
    "        if self._instance_count == 0: return 0.0\n",
    "        class_probabilities = (\n",
    "            (class_instance_count / self._instance_count)\n",
    "            for class_instance_count in self._classes.values()\n",
    "        )\n",
    "        return - sum(\n",
    "            p * (math.log2(p) if p > 0 else 0.0)\n",
    "            for p in class_probabilities\n",
    "        )\n",
    "\n",
    "    @property\n",
    "    @cache_result('precomputed')\n",
    "    def misclassification_error(self):\n",
    "        \"\"\" Misclassification Error: 1 - max(p(i|m)) \"\"\"\n",
    "        if self._instance_count == 0: return 0.0\n",
    "        return 1.0 - max(\n",
    "            (class_instance_count / self._instance_count)\n",
    "            for class_instance_count in self._classes.values()\n",
    "        )\n",
    "\n",
    "    def gain(self, criterion):\n",
    "        \"\"\"\n",
    "            Computes the gain for a node set, defined as the difference\n",
    "            between the impurity measure of the parent and the weighted\n",
    "            impurity measure of the child nodes (weighted as per the share\n",
    "            of the instances at the child nodes).\n",
    "        \"\"\"\n",
    "        if self.children is not None:\n",
    "            split_criterion = sum(\n",
    "                (node._instance_count / self._instance_count)\n",
    "                * node.measure(criterion)\n",
    "                for node in self.children.values()\n",
    "            )\n",
    "            return self.measure(criterion) - split_criterion\n",
    "        return 0.0\n",
    "\n",
    "    @property\n",
    "    @cache_result('precomputed')\n",
    "    def split_entropy(self):\n",
    "        \"\"\"\n",
    "            Computes the entropy of the split (aka split information),\n",
    "            which gives a measure for evaulating the number of splits\n",
    "            at a given node. This information helps compare purer but\n",
    "            sparser nodes against slightly impurer but denser nodes.\n",
    "        \"\"\"\n",
    "        if self.children is not None:\n",
    "            branch_probabilities = (\n",
    "                (node._instance_count / self._instance_count)\n",
    "                for node in self.children.values()\n",
    "            )\n",
    "            entropy = - sum(\n",
    "                p * (math.log2(p) if p > 0 else 0.0)\n",
    "                for p in branch_probabilities\n",
    "            )\n",
    "            return entropy if entropy > 0 else math.inf\n",
    "        return math.inf\n",
    "\n",
    "    def gain_ratio(self, criterion):\n",
    "        \"\"\"\n",
    "            Computes the gain ratio at a given node, which judges gain weighted\n",
    "            with the inverse of the split information. This helps prefer denser\n",
    "            and reduced number of splits compared to large number of splits into \n",
    "            sparse nodes (and may improve generalization ability of the tree).\n",
    "        \"\"\"\n",
    "        return self.gain(criterion) / self.split_entropy\n",
    "\n",
    "    def measure(self, criterion):\n",
    "        \"\"\"\n",
    "            Returns the value of the requested\n",
    "            impurity measure, by label.\n",
    "        \"\"\"\n",
    "        return getattr(self, criterion, None)\n",
    "\n",
    "    def predict(self, instance):\n",
    "        \"\"\"\n",
    "            Predict the class for a given instance,\n",
    "            based on the results of learnt information.\n",
    "        \"\"\"\n",
    "        if self.children is None:\n",
    "            # Return the majority class at the leaf node.\n",
    "            return self.majority_class\n",
    "        else:\n",
    "            instance_value = instance[self.attribute]\n",
    "            attr_fx = self.operators[self.operator](instance_value)\n",
    "            for attr_value in self.children:\n",
    "                if attr_value[0] == '!':\n",
    "                    if not (attr_fx(type(instance_value)(attr_value[1:]))):\n",
    "                        return self.children[attr_value].predict(instance)\n",
    "                elif attr_fx(type(instance_value)(attr_value)):\n",
    "                    return self.children[attr_value].predict(instance)\n",
    "            # return self._majority_class\n",
    "            raise ValueError(\n",
    "                \"predict(): branches exhausted for given instance\"\n",
    "            )\n"
   ]
  },
  {
   "cell_type": "markdown",
   "metadata": {
    "id": "5M9NIlT_1ygH"
   },
   "source": [
    "#### Decision Tree Classifier:"
   ]
  },
  {
   "cell_type": "code",
   "execution_count": 34,
   "metadata": {
    "id": "nYrwLWRDdR-E"
   },
   "outputs": [],
   "source": [
    "class DecisionTreeClassifier:\n",
    "    \"\"\"\n",
    "        Classifier based on Decision Tree,\n",
    "        trainable via different impurity measures.\n",
    "    \"\"\"\n",
    "    def __init__(\n",
    "        self, criterion, max_depth=None,\n",
    "        threshold=0.0, use_gain_ratio=False\n",
    "    ):\n",
    "        \"\"\" Creates a new Decision Tree Classifier\n",
    "\n",
    "        Args:\n",
    "            `criterion (str)`: The criterion to use to\n",
    "                determine the best split.\n",
    "            `max_depth (int, optional)`: Maximum depth\n",
    "                to recurse. Defaults to None.\n",
    "            `threshold (float, optional)`: Threshold\n",
    "                (maximum) for the impurity value (terminates\n",
    "                    when impurity is below the threshold). Defaults to 0.0.\n",
    "            `use_gain_ratio (bool, optional)`: If true,\n",
    "                uses gain ratio instead of gain to determine splits.\n",
    "                    Defaults to False.\n",
    "        \"\"\"\n",
    "        self.root = None\n",
    "        self.criterion = criterion\n",
    "        self.max_depth = max_depth\n",
    "        self.threshold = threshold\n",
    "        self.use_gain_ratio = use_gain_ratio\n",
    "\n",
    "    def fit(self, instances, responses):\n",
    "        \"\"\" Fits a decision tree over given instances and responses. \"\"\"\n",
    "        classes = responses.unique()\n",
    "        self.root = DTClassifierNode(classes, instances, responses)\n",
    "        self._generate_tree(self.root, classes)\n",
    "\n",
    "    def _generate_tree(self, node, classes, depth = 0):\n",
    "        \"\"\"\n",
    "            Internal method: recursively generates the tree\n",
    "            rooted at a given node based on the best splits.\n",
    "        \"\"\"\n",
    "        # While the stopping criteria are not met ...\n",
    "        if node.measure(self.criterion) > self.threshold and \\\n",
    "            (self.max_depth is None or depth < self.max_depth):\n",
    "            # ... determine the best split, and generate\n",
    "            # children for the current node ...\n",
    "            self.split_node(node, classes)\n",
    "            # ... recursively apply tree generation over children nodes, if any.\n",
    "            if node.children is not None:\n",
    "                next_depth = depth + 1 if depth is not None else None\n",
    "                for i, child_node in enumerate(node.children.values()):\n",
    "                    self._generate_tree( child_node, classes, next_depth )\n",
    "        return node\n",
    "\n",
    "    @staticmethod\n",
    "    def possibly_discrete(node, attribute):\n",
    "        \"\"\" Utility function to test whether an attribute is discrete. \"\"\"\n",
    "        return attribute.lower().endswith(\"id\") or \\\n",
    "            attribute.lower().endswith(\"year\")\n",
    "\n",
    "    def split_node(self, node, classes):\n",
    "        highest_gain = 0.0\n",
    "        best_children = None\n",
    "        best_decision = [ None, None ]\n",
    "        all_gains = {}\n",
    "\n",
    "        for attribute in node.instances.columns:\n",
    "            attribute_column = node.instances[attribute]\n",
    "\n",
    "            # Continuous Attribute\n",
    "            if attribute_column.dtype.kind in 'uifc' and \\\n",
    "                not self.possibly_discrete(node, attribute):\n",
    "                # Reappend class labels\n",
    "                node.instances.insert(0, \"labels\", node.responses)\n",
    "                data = node.instances.sort_values(by = [ attribute ])\n",
    "                _responses, _instances = data.iloc[:, 0], data.iloc[:, 1:]\n",
    "                node.instances.drop(\"labels\", axis=1, inplace=True)\n",
    "                node.instances = _instances\n",
    "\n",
    "                split_point = None\n",
    "\n",
    "                mid_value       = _instances[attribute].iloc[0] - 1\n",
    "                instance_filter = _instances[attribute] < mid_value\n",
    "                left  = DTClassifierNode(\n",
    "                    classes,\n",
    "                    _instances[instance_filter].copy(),\n",
    "                    _responses[instance_filter].copy()\n",
    "                )\n",
    "                right = DTClassifierNode(\n",
    "                    classes, _instances, _responses\n",
    "                )\n",
    "                node.children = { 0: left, 1: right }\n",
    "\n",
    "                gains = {}\n",
    "                best_current_gain = 0.0\n",
    "                previous_value = _instances[attribute].iloc[0]\n",
    "                for value in _instances[attribute].iloc[1:]:\n",
    "                    # Shift tuples across nodes ...\n",
    "                    mid_value = ( previous_value + value ) / 2\n",
    "                    # ... add one to the left ...\n",
    "                    right_inst = right.instances.iloc[0]\n",
    "                    right_resp = right.responses.iloc[0]\n",
    "                    left.instances.loc[len(left.instances)] = right_inst\n",
    "                    left.responses.loc[len(left.responses)] = right_resp\n",
    "                    # ... remove one from the right ...\n",
    "                    right.instances = right.instances.iloc[1:, :]\n",
    "                    right.responses = right.responses.iloc[1:]\n",
    "                    # ... and invalidate cached information.\n",
    "                    left.invalidate(); right.invalidate()\n",
    "\n",
    "                    if self.use_gain_ratio:\n",
    "                        current_gain = node.gain_ratio(self.criterion)\n",
    "                    else:\n",
    "                        current_gain = node.gain(self.criterion)\n",
    "\n",
    "                    gains[mid_value] = current_gain\n",
    "                    if current_gain > best_current_gain:\n",
    "                        best_current_gain = current_gain\n",
    "                        split_point = mid_value\n",
    "                    previous_value = value\n",
    "\n",
    "                all_gains[attribute] = gains\n",
    "                if best_current_gain > highest_gain:\n",
    "                    instance_filter = _instances[attribute] < split_point\n",
    "                    best_children = {\n",
    "                        f\"{round(split_point, 4)}\": DTClassifierNode(\n",
    "                            classes, _instances[instance_filter],\n",
    "                            _responses[instance_filter]\n",
    "                        ),\n",
    "                        f\"!{round(split_point, 4)}\": DTClassifierNode(\n",
    "                            classes, _instances[~instance_filter],\n",
    "                            _responses[~instance_filter]\n",
    "                        ),\n",
    "                    }\n",
    "                    best_decision = [ attribute, '<' ]\n",
    "                    highest_gain = best_current_gain\n",
    "\n",
    "            # Discrete Attribute\n",
    "            else:\n",
    "                values = attribute_column.unique()\n",
    "                children = {}\n",
    "\n",
    "                for value in values:\n",
    "                    instance_filter = attribute_column == value\n",
    "                    subinstances = node.instances[instance_filter]\n",
    "                    subresponses = node.responses[instance_filter]\n",
    "                    children[value] = DTClassifierNode(\n",
    "                        classes, subinstances, subresponses\n",
    "                    )\n",
    "                node.children = children\n",
    "\n",
    "                if self.use_gain_ratio:\n",
    "                    current_gain = node.gain_ratio(self.criterion)\n",
    "                else:\n",
    "                    current_gain = node.gain(self.criterion)\n",
    "\n",
    "                all_gains[attribute] = current_gain\n",
    "                if current_gain > highest_gain:\n",
    "                    best_children = children\n",
    "                    best_decision = [ attribute, '=' ]\n",
    "                    highest_gain  = current_gain\n",
    "\n",
    "        node.children = best_children\n",
    "        node.attribute, node.operator = best_decision\n",
    "\n",
    "        return all_gains\n",
    "\n",
    "    def predict(self, instances):\n",
    "        if self.root is None:\n",
    "            raise ValueError(\n",
    "                \"predict(): tree not learnt, use fit() to learn the tree first\"\n",
    "            )\n",
    "        return pandas.Series([\n",
    "            self.root.predict(instance) for _, instance in instances.iterrows()\n",
    "        ])\n",
    "\n",
    "    def collect_measures(self, criterion = None, collect_as = 'direct', level = 2):\n",
    "        \"\"\"\n",
    "            Collects the value of impurity measures (as direct,\n",
    "            gain or gain_ratio) from the node structure into a linear list\n",
    "        \"\"\"\n",
    "        if criterion is None:\n",
    "            criterion = self.criterion\n",
    "        measures = []\n",
    "        if self.root is not None:\n",
    "            queue = [ (0, self.root) ]\n",
    "            while len(queue) > 0:\n",
    "                clevel, node = queue.pop(0)\n",
    "                if collect_as == \"direct\":\n",
    "                    measures.append(node.measure(criterion))\n",
    "                elif collect_as == \"gain\":\n",
    "                    measures.append(node.gain(criterion))\n",
    "                elif collect_as == \"gain_ratio\":\n",
    "                    measures.append(node.gain_ratio(criterion))\n",
    "                if node.children is not None and clevel < level:\n",
    "                    queue.extend([ (clevel + 1, child) for child in node.children.values() ])\n",
    "        return measures"
   ]
  },
  {
   "cell_type": "markdown",
   "metadata": {
    "id": "Y9SyahWbBlV_"
   },
   "source": [
    "### Training the classifier over the chosen dataset:"
   ]
  },
  {
   "cell_type": "code",
   "execution_count": 35,
   "metadata": {
    "id": "feGFyNmMde2c"
   },
   "outputs": [],
   "source": [
    "penguins  = pandas.read_csv(\"glass.csv\")\n",
    "penguins  = penguins.dropna()\n",
    "instances = penguins.drop(\"Type\", axis=1)\n",
    "responses = penguins[\"Type\"]"
   ]
  },
  {
   "cell_type": "code",
   "execution_count": 36,
   "metadata": {
    "id": "AntFep_IljSG"
   },
   "outputs": [],
   "source": [
    "X_train, X_test, R_train, R_test = model_selection.train_test_split(\n",
    "    instances, responses, random_state = 0, train_size = 0.7\n",
    ")"
   ]
  },
  {
   "cell_type": "code",
   "execution_count": 37,
   "metadata": {
    "id": "seRwMieLfHPE"
   },
   "outputs": [],
   "source": [
    "tree = DecisionTreeClassifier(\n",
    "    criterion = 'entropy', # Train via gain in entropy, aka information gain\n",
    "    use_gain_ratio = False, max_depth = 10\n",
    ")\n",
    "tree.fit(X_train, R_train)"
   ]
  },
  {
   "cell_type": "markdown",
   "metadata": {
    "id": "Xvlo9Q2tBaUH"
   },
   "source": [
    "### Plotting the Decision Tree Structure:"
   ]
  },
  {
   "cell_type": "code",
   "execution_count": 38,
   "metadata": {
    "id": "pdq81capNXvP"
   },
   "outputs": [],
   "source": [
    "def to_label(operator, value):\n",
    "    if isinstance(value, str) and value[0] == '!':\n",
    "        value = value[1:]\n",
    "        if   operator == '=' : operator = '!='\n",
    "        elif operator == '<' : operator = '>='\n",
    "        elif operator == '>' : operator = '<='\n",
    "        elif operator == '<=': operator = '>'\n",
    "        elif operator == '>=': operator = '<'\n",
    "    return f\"{operator} {value}\"\n",
    "\n",
    "def export_graphviz(root = None):\n",
    "    if isinstance(root, DecisionTreeClassifier): root = root.root\n",
    "    if not isinstance(root, DTClassifierNode): return\n",
    "    \n",
    "    graph = graphviz.Digraph()\n",
    "    graph.attr(fontsize='5', size=\"100,100\")\n",
    "    queue = []; index = 1\n",
    "    if root is not None:\n",
    "        values = ', '.join(str(i) for i in root._classes.values())\n",
    "        if root.children is not None:\n",
    "            label =  f\"{{ {index}) {root.attribute} \"\n",
    "            label += f\"| {{ values | [ { values } ] }}\"\n",
    "            label += \" | { { \" + ' | '.join(root.criteria) + \" }\"\n",
    "            label += \" | { \" + ' | '.join(\n",
    "                f\"{round(root.measure(criterion), 4)}\"\n",
    "                for criterion in root.criteria\n",
    "            ) + \" }\"\n",
    "            label += \" | { \" + ' | '.join(\n",
    "                f\"{round(root.gain(criterion), 4)}\"\n",
    "                for criterion in root.criteria\n",
    "            ) + \" }\"\n",
    "            label += \" | { \" + ' | '.join(\n",
    "                f\"{round(root.gain_ratio(criterion), 4)}\"\n",
    "                for criterion in root.criteria\n",
    "            ) + \" } } }\"\n",
    "            graph.node(\n",
    "                f\"{index}\", shape = 'record',\n",
    "                style = 'rounded', label = label\n",
    "            )\n",
    "            queue.append((index, root)); index += 1\n",
    "        else:\n",
    "            label =  f\"{{ {index}) {root.majority_class} \"\n",
    "            label += f\"| {{ values | [ { values } ] }}\"\n",
    "            label += \" | { { \" + ' | '.join(root.criteria) + \" }\"\n",
    "            label += \" | { \" + ' | '.join(\n",
    "                f\"{round(root.measure(criterion), 4)}\"\n",
    "                for criterion in root.criteria\n",
    "            ) + \" } } }\"\n",
    "            graph.node(\n",
    "                f\"{index}\", shape = 'rectangle',\n",
    "                label = f\"{index}) {root.majority_class}{data}\"\n",
    "            )\n",
    "            index += 1\n",
    "    while len(queue) > 0:\n",
    "        pindex, node = queue.pop(0)\n",
    "        if node.children is not None:\n",
    "            for attr_value, child_node in node.children.items():\n",
    "                values = ', '.join(str(i) for i in child_node._classes.values())\n",
    "                if child_node.children is not None:\n",
    "                    label =  f\"{{ {index}) {child_node.attribute} \"\n",
    "                    label += f\"| {{ values | [ { values } ] }}\"\n",
    "                    label += \" | { { \" + ' | '.join(child_node.criteria) + \" }\"\n",
    "                    label += \" | { \" + ' | '.join(\n",
    "                        f\"{round(child_node.measure(criterion), 4)}\"\n",
    "                        for criterion in child_node.criteria\n",
    "                    ) + \" }\"\n",
    "                    label += \" | { \" + ' | '.join(\n",
    "                        f\"{round(child_node.gain(criterion), 4)}\"\n",
    "                        for criterion in child_node.criteria\n",
    "                    ) + \" }\"\n",
    "                    label += \" | { \" + ' | '.join(\n",
    "                        f\"{round(child_node.gain_ratio(criterion), 4)}\"\n",
    "                        for criterion in child_node.criteria\n",
    "                    ) + \" } } }\"\n",
    "                    graph.node(\n",
    "                        f\"{index}\", shape = 'record',\n",
    "                        style = 'rounded', label = label\n",
    "                    )\n",
    "                    queue.append((index, child_node)); index += 1\n",
    "                else:\n",
    "                    label =  f\"{{ {index}) {child_node.majority_class} \"\n",
    "                    label += f\"| {{ values | [ { values } ] }}\"\n",
    "                    label += \" | { { \" + ' | '.join(child_node.criteria) + \" }\"\n",
    "                    label += \" | { \" + ' | '.join(\n",
    "                        f\"{round(child_node.measure(criterion), 4)}\"\n",
    "                        for criterion in child_node.criteria\n",
    "                    ) + \" } } }\"\n",
    "                    graph.node( f\"{index}\", shape = 'record', label = label )\n",
    "                    index += 1\n",
    "                graph.edge(\n",
    "                    f\"{pindex}\", f\"{index-1}\",\n",
    "                    label = to_label(node.operator, attr_value)\n",
    "                )\n",
    "    return graphdot.render(format='png')"
   ]
  },
  {
   "cell_type": "code",
   "execution_count": 39,
   "metadata": {
    "colab": {
     "base_uri": "https://localhost:8080/",
     "height": 794
    },
    "id": "P9PB2PR7dFfh",
    "outputId": "614ae831-3d3b-4c54-bd9d-8cf0a0a97c8b"
   },
   "outputs": [
    {
     "ename": "NameError",
     "evalue": "name 'graphdot' is not defined",
     "output_type": "error",
     "traceback": [
      "\u001b[0;31m---------------------------------------------------------------------------\u001b[0m",
      "\u001b[0;31mNameError\u001b[0m                                 Traceback (most recent call last)",
      "\u001b[0;32m<ipython-input-39-f5c57751a589>\u001b[0m in \u001b[0;36m<module>\u001b[0;34m\u001b[0m\n\u001b[0;32m----> 1\u001b[0;31m \u001b[0mexport_graphviz\u001b[0m\u001b[0;34m(\u001b[0m\u001b[0mtree\u001b[0m\u001b[0;34m)\u001b[0m\u001b[0;34m\u001b[0m\u001b[0;34m\u001b[0m\u001b[0m\n\u001b[0m",
      "\u001b[0;32m<ipython-input-38-76997f62b600>\u001b[0m in \u001b[0;36mexport_graphviz\u001b[0;34m(root)\u001b[0m\n\u001b[1;32m     92\u001b[0m                     \u001b[0mlabel\u001b[0m \u001b[0;34m=\u001b[0m \u001b[0mto_label\u001b[0m\u001b[0;34m(\u001b[0m\u001b[0mnode\u001b[0m\u001b[0;34m.\u001b[0m\u001b[0moperator\u001b[0m\u001b[0;34m,\u001b[0m \u001b[0mattr_value\u001b[0m\u001b[0;34m)\u001b[0m\u001b[0;34m\u001b[0m\u001b[0;34m\u001b[0m\u001b[0m\n\u001b[1;32m     93\u001b[0m                 )\n\u001b[0;32m---> 94\u001b[0;31m     \u001b[0;32mreturn\u001b[0m \u001b[0mgraphdot\u001b[0m\u001b[0;34m.\u001b[0m\u001b[0mrender\u001b[0m\u001b[0;34m(\u001b[0m\u001b[0mformat\u001b[0m\u001b[0;34m=\u001b[0m\u001b[0;34m'png'\u001b[0m\u001b[0;34m)\u001b[0m\u001b[0;34m\u001b[0m\u001b[0;34m\u001b[0m\u001b[0m\n\u001b[0m",
      "\u001b[0;31mNameError\u001b[0m: name 'graphdot' is not defined"
     ]
    }
   ],
   "source": [
    "export_graphviz(tree)"
   ]
  },
  {
   "cell_type": "markdown",
   "metadata": {
    "id": "10-4muGSBehH"
   },
   "source": [
    "## Comparing values of impurity measures across nodes of first two levels:"
   ]
  },
  {
   "cell_type": "code",
   "execution_count": 13,
   "metadata": {
    "colab": {
     "base_uri": "https://localhost:8080/",
     "height": 796
    },
    "id": "SFAptD5F_HHh",
    "outputId": "d6cef599-2ed8-4238-91c7-0fa7a76da66c"
   },
   "outputs": [
    {
     "data": {
      "text/plain": [
       "([<matplotlib.axis.XTick at 0x7f2ec6c85c40>,\n",
       "  <matplotlib.axis.XTick at 0x7f2ec6c85c10>,\n",
       "  <matplotlib.axis.XTick at 0x7f2ec6c85af0>,\n",
       "  <matplotlib.axis.XTick at 0x7f2ec6c20a30>,\n",
       "  <matplotlib.axis.XTick at 0x7f2ec6bb41c0>,\n",
       "  <matplotlib.axis.XTick at 0x7f2ec6bb4910>,\n",
       "  <matplotlib.axis.XTick at 0x7f2ec6c20b20>],\n",
       " [Text(0.22499999999999998, 0, '1'),\n",
       "  Text(1.225, 0, '2'),\n",
       "  Text(2.225, 0, '3'),\n",
       "  Text(3.225, 0, '4'),\n",
       "  Text(4.225, 0, '5'),\n",
       "  Text(5.225, 0, '6'),\n",
       "  Text(6.225, 0, '7')])"
      ]
     },
     "execution_count": 13,
     "metadata": {},
     "output_type": "execute_result"
    },
    {
     "data": {
      "image/png": "[encoded data removed]",
      "text/plain": [
       "<Figure size 1280x720 with 1 Axes>"
      ]
     },
     "metadata": {
      "needs_background": "light"
     },
     "output_type": "display_data"
    }
   ],
   "source": [
    "pyplot.figure(figsize = ( 16, 9 ), dpi = 80)\n",
    "\n",
    "pyplot.title(\"Comparison of different impurity measures at nodes\")\n",
    "pyplot.xlabel(\"Node Index (refer tree)\")\n",
    "pyplot.ylabel(\"Value of the impurity measure\")\n",
    "\n",
    "info_gain  = tree.collect_measures('entropy'   , collect_as = 'gain', level = 2)\n",
    "gini_gain  = tree.collect_measures('gini_index', collect_as = 'gain', level = 2)\n",
    "gain_ratio = tree.collect_measures('entropy'   , collect_as = 'gain_ratio', level = 2)\n",
    "mis_error  = tree.collect_measures('misclassification_error', level = 2)\n",
    "\n",
    "x = numpy.arange(len(info_gain))\n",
    "width = 0.15\n",
    "\n",
    "pyplot.bar(x, info_gain, width, label = \"Information Gain\")\n",
    "pyplot.bar(x+width, gini_gain, width, label = \"Gini Gain\")\n",
    "pyplot.bar(x+width*2, gain_ratio, width, label = \"Gain Ratio\")\n",
    "pyplot.bar(x+width*3, mis_error, width, label = \"Misclassification Error\")\n",
    "pyplot.legend()\n",
    "pyplot.xticks(x+width*1.5, x+1)"
   ]
  },
  {
   "cell_type": "markdown",
   "metadata": {
    "id": "B4W5xeXxBl32"
   },
   "source": [
    "### Evaluating the classifier over unseen data:"
   ]
  },
  {
   "cell_type": "code",
   "execution_count": 26,
   "metadata": {
    "colab": {
     "base_uri": "https://localhost:8080/"
    },
    "id": "1bXny-v5-3KC",
    "outputId": "9ec37d4c-dac1-4110-92ab-10952d356e9e"
   },
   "outputs": [
    {
     "name": "stdout",
     "output_type": "stream",
     "text": [
      "              precision    recall  f1-score   support\n",
      "\n",
      "           1       0.50      0.71      0.59        21\n",
      "           2       0.60      0.46      0.52        26\n",
      "           3       0.00      0.00      0.00         7\n",
      "           5       0.50      1.00      0.67         2\n",
      "           6       0.50      1.00      0.67         2\n",
      "           7       1.00      1.00      1.00         7\n",
      "\n",
      "    accuracy                           0.58        65\n",
      "   macro avg       0.52      0.70      0.57        65\n",
      "weighted avg       0.54      0.58      0.55        65\n",
      "\n"
     ]
    },
    {
     "name": "stderr",
     "output_type": "stream",
     "text": [
      "/home/magnetium/.local/lib/python3.9/site-packages/sklearn/metrics/_classification.py:1327: UndefinedMetricWarning: Precision and F-score are ill-defined and being set to 0.0 in labels with no predicted samples. Use `zero_division` parameter to control this behavior.\n",
      "  _warn_prf(average, modifier, msg_start, len(result))\n",
      "/home/magnetium/.local/lib/python3.9/site-packages/sklearn/metrics/_classification.py:1327: UndefinedMetricWarning: Precision and F-score are ill-defined and being set to 0.0 in labels with no predicted samples. Use `zero_division` parameter to control this behavior.\n",
      "  _warn_prf(average, modifier, msg_start, len(result))\n",
      "/home/magnetium/.local/lib/python3.9/site-packages/sklearn/metrics/_classification.py:1327: UndefinedMetricWarning: Precision and F-score are ill-defined and being set to 0.0 in labels with no predicted samples. Use `zero_division` parameter to control this behavior.\n",
      "  _warn_prf(average, modifier, msg_start, len(result))\n"
     ]
    }
   ],
   "source": [
    "print(metrics.classification_report(R_test, tree.predict(X_test)))"
   ]
  },
  {
   "cell_type": "code",
   "execution_count": null,
   "metadata": {
    "id": "2C7axB56CyIx"
   },
   "outputs": [],
   "source": []
  },
  {
   "cell_type": "code",
   "execution_count": 15,
   "metadata": {
    "colab": {
     "base_uri": "https://localhost:8080/"
    },
    "id": "xTMKQcpsC46U",
    "outputId": "ba58d209-b0bd-4149-85dd-a6c4af18c8bb"
   },
   "outputs": [
    {
     "name": "stdout",
     "output_type": "stream",
     "text": [
      "Metrics for tree trained using splits based on gain  on gini_index :\n",
      "              precision    recall  f1-score   support\n",
      "\n",
      "           1       0.53      0.81      0.64        21\n",
      "           2       0.70      0.54      0.61        26\n",
      "           3       0.00      0.00      0.00         7\n",
      "           5       0.50      1.00      0.67         2\n",
      "           6       0.00      0.00      0.00         2\n",
      "           7       0.78      1.00      0.88         7\n",
      "\n",
      "    accuracy                           0.62        65\n",
      "   macro avg       0.42      0.56      0.47        65\n",
      "weighted avg       0.55      0.62      0.57        65\n",
      "\n"
     ]
    },
    {
     "name": "stderr",
     "output_type": "stream",
     "text": [
      "/home/magnetium/.local/lib/python3.9/site-packages/sklearn/metrics/_classification.py:1327: UndefinedMetricWarning: Precision and F-score are ill-defined and being set to 0.0 in labels with no predicted samples. Use `zero_division` parameter to control this behavior.\n",
      "  _warn_prf(average, modifier, msg_start, len(result))\n",
      "/home/magnetium/.local/lib/python3.9/site-packages/sklearn/metrics/_classification.py:1327: UndefinedMetricWarning: Precision and F-score are ill-defined and being set to 0.0 in labels with no predicted samples. Use `zero_division` parameter to control this behavior.\n",
      "  _warn_prf(average, modifier, msg_start, len(result))\n",
      "/home/magnetium/.local/lib/python3.9/site-packages/sklearn/metrics/_classification.py:1327: UndefinedMetricWarning: Precision and F-score are ill-defined and being set to 0.0 in labels with no predicted samples. Use `zero_division` parameter to control this behavior.\n",
      "  _warn_prf(average, modifier, msg_start, len(result))\n"
     ]
    },
    {
     "name": "stdout",
     "output_type": "stream",
     "text": [
      "Metrics for tree trained using splits based on gain  on entropy :\n",
      "              precision    recall  f1-score   support\n",
      "\n",
      "           1       0.50      0.71      0.59        21\n",
      "           2       0.60      0.46      0.52        26\n",
      "           3       0.00      0.00      0.00         7\n",
      "           5       0.50      1.00      0.67         2\n",
      "           6       0.50      1.00      0.67         2\n",
      "           7       1.00      1.00      1.00         7\n",
      "\n",
      "    accuracy                           0.58        65\n",
      "   macro avg       0.52      0.70      0.57        65\n",
      "weighted avg       0.54      0.58      0.55        65\n",
      "\n"
     ]
    },
    {
     "name": "stderr",
     "output_type": "stream",
     "text": [
      "/home/magnetium/.local/lib/python3.9/site-packages/sklearn/metrics/_classification.py:1327: UndefinedMetricWarning: Precision and F-score are ill-defined and being set to 0.0 in labels with no predicted samples. Use `zero_division` parameter to control this behavior.\n",
      "  _warn_prf(average, modifier, msg_start, len(result))\n",
      "/home/magnetium/.local/lib/python3.9/site-packages/sklearn/metrics/_classification.py:1327: UndefinedMetricWarning: Precision and F-score are ill-defined and being set to 0.0 in labels with no predicted samples. Use `zero_division` parameter to control this behavior.\n",
      "  _warn_prf(average, modifier, msg_start, len(result))\n",
      "/home/magnetium/.local/lib/python3.9/site-packages/sklearn/metrics/_classification.py:1327: UndefinedMetricWarning: Precision and F-score are ill-defined and being set to 0.0 in labels with no predicted samples. Use `zero_division` parameter to control this behavior.\n",
      "  _warn_prf(average, modifier, msg_start, len(result))\n"
     ]
    },
    {
     "name": "stdout",
     "output_type": "stream",
     "text": [
      "Metrics for tree trained using splits based on gain  on misclassification_error :\n",
      "              precision    recall  f1-score   support\n",
      "\n",
      "           1       0.48      0.71      0.58        21\n",
      "           2       0.59      0.50      0.54        26\n",
      "           3       0.00      0.00      0.00         7\n",
      "           5       0.50      1.00      0.67         2\n",
      "           6       0.00      0.00      0.00         2\n",
      "           7       0.86      0.86      0.86         7\n",
      "\n",
      "    accuracy                           0.55        65\n",
      "   macro avg       0.41      0.51      0.44        65\n",
      "weighted avg       0.50      0.55      0.52        65\n",
      "\n"
     ]
    },
    {
     "name": "stderr",
     "output_type": "stream",
     "text": [
      "/home/magnetium/.local/lib/python3.9/site-packages/sklearn/metrics/_classification.py:1327: UndefinedMetricWarning: Precision and F-score are ill-defined and being set to 0.0 in labels with no predicted samples. Use `zero_division` parameter to control this behavior.\n",
      "  _warn_prf(average, modifier, msg_start, len(result))\n",
      "/home/magnetium/.local/lib/python3.9/site-packages/sklearn/metrics/_classification.py:1327: UndefinedMetricWarning: Precision and F-score are ill-defined and being set to 0.0 in labels with no predicted samples. Use `zero_division` parameter to control this behavior.\n",
      "  _warn_prf(average, modifier, msg_start, len(result))\n",
      "/home/magnetium/.local/lib/python3.9/site-packages/sklearn/metrics/_classification.py:1327: UndefinedMetricWarning: Precision and F-score are ill-defined and being set to 0.0 in labels with no predicted samples. Use `zero_division` parameter to control this behavior.\n",
      "  _warn_prf(average, modifier, msg_start, len(result))\n"
     ]
    },
    {
     "name": "stdout",
     "output_type": "stream",
     "text": [
      "Metrics for tree trained using splits based on gain ratio on gini_index :\n",
      "              precision    recall  f1-score   support\n",
      "\n",
      "           1       0.53      0.81      0.64        21\n",
      "           2       0.70      0.54      0.61        26\n",
      "           3       0.00      0.00      0.00         7\n",
      "           5       0.50      1.00      0.67         2\n",
      "           6       0.00      0.00      0.00         2\n",
      "           7       0.78      1.00      0.88         7\n",
      "\n",
      "    accuracy                           0.62        65\n",
      "   macro avg       0.42      0.56      0.47        65\n",
      "weighted avg       0.55      0.62      0.57        65\n",
      "\n"
     ]
    },
    {
     "name": "stderr",
     "output_type": "stream",
     "text": [
      "/home/magnetium/.local/lib/python3.9/site-packages/sklearn/metrics/_classification.py:1327: UndefinedMetricWarning: Precision and F-score are ill-defined and being set to 0.0 in labels with no predicted samples. Use `zero_division` parameter to control this behavior.\n",
      "  _warn_prf(average, modifier, msg_start, len(result))\n",
      "/home/magnetium/.local/lib/python3.9/site-packages/sklearn/metrics/_classification.py:1327: UndefinedMetricWarning: Precision and F-score are ill-defined and being set to 0.0 in labels with no predicted samples. Use `zero_division` parameter to control this behavior.\n",
      "  _warn_prf(average, modifier, msg_start, len(result))\n",
      "/home/magnetium/.local/lib/python3.9/site-packages/sklearn/metrics/_classification.py:1327: UndefinedMetricWarning: Precision and F-score are ill-defined and being set to 0.0 in labels with no predicted samples. Use `zero_division` parameter to control this behavior.\n",
      "  _warn_prf(average, modifier, msg_start, len(result))\n"
     ]
    },
    {
     "name": "stdout",
     "output_type": "stream",
     "text": [
      "Metrics for tree trained using splits based on gain ratio on entropy :\n",
      "              precision    recall  f1-score   support\n",
      "\n",
      "           1       0.50      0.71      0.59        21\n",
      "           2       0.60      0.46      0.52        26\n",
      "           3       0.00      0.00      0.00         7\n",
      "           5       0.50      1.00      0.67         2\n",
      "           6       0.50      1.00      0.67         2\n",
      "           7       1.00      1.00      1.00         7\n",
      "\n",
      "    accuracy                           0.58        65\n",
      "   macro avg       0.52      0.70      0.57        65\n",
      "weighted avg       0.54      0.58      0.55        65\n",
      "\n"
     ]
    },
    {
     "name": "stderr",
     "output_type": "stream",
     "text": [
      "/home/magnetium/.local/lib/python3.9/site-packages/sklearn/metrics/_classification.py:1327: UndefinedMetricWarning: Precision and F-score are ill-defined and being set to 0.0 in labels with no predicted samples. Use `zero_division` parameter to control this behavior.\n",
      "  _warn_prf(average, modifier, msg_start, len(result))\n",
      "/home/magnetium/.local/lib/python3.9/site-packages/sklearn/metrics/_classification.py:1327: UndefinedMetricWarning: Precision and F-score are ill-defined and being set to 0.0 in labels with no predicted samples. Use `zero_division` parameter to control this behavior.\n",
      "  _warn_prf(average, modifier, msg_start, len(result))\n",
      "/home/magnetium/.local/lib/python3.9/site-packages/sklearn/metrics/_classification.py:1327: UndefinedMetricWarning: Precision and F-score are ill-defined and being set to 0.0 in labels with no predicted samples. Use `zero_division` parameter to control this behavior.\n",
      "  _warn_prf(average, modifier, msg_start, len(result))\n"
     ]
    },
    {
     "name": "stdout",
     "output_type": "stream",
     "text": [
      "Metrics for tree trained using splits based on gain ratio on misclassification_error :\n",
      "              precision    recall  f1-score   support\n",
      "\n",
      "           1       0.48      0.71      0.58        21\n",
      "           2       0.59      0.50      0.54        26\n",
      "           3       0.00      0.00      0.00         7\n",
      "           5       0.50      1.00      0.67         2\n",
      "           6       0.00      0.00      0.00         2\n",
      "           7       0.86      0.86      0.86         7\n",
      "\n",
      "    accuracy                           0.55        65\n",
      "   macro avg       0.41      0.51      0.44        65\n",
      "weighted avg       0.50      0.55      0.52        65\n",
      "\n"
     ]
    },
    {
     "name": "stderr",
     "output_type": "stream",
     "text": [
      "/home/magnetium/.local/lib/python3.9/site-packages/sklearn/metrics/_classification.py:1327: UndefinedMetricWarning: Precision and F-score are ill-defined and being set to 0.0 in labels with no predicted samples. Use `zero_division` parameter to control this behavior.\n",
      "  _warn_prf(average, modifier, msg_start, len(result))\n",
      "/home/magnetium/.local/lib/python3.9/site-packages/sklearn/metrics/_classification.py:1327: UndefinedMetricWarning: Precision and F-score are ill-defined and being set to 0.0 in labels with no predicted samples. Use `zero_division` parameter to control this behavior.\n",
      "  _warn_prf(average, modifier, msg_start, len(result))\n",
      "/home/magnetium/.local/lib/python3.9/site-packages/sklearn/metrics/_classification.py:1327: UndefinedMetricWarning: Precision and F-score are ill-defined and being set to 0.0 in labels with no predicted samples. Use `zero_division` parameter to control this behavior.\n",
      "  _warn_prf(average, modifier, msg_start, len(result))\n"
     ]
    }
   ],
   "source": [
    "import itertools\n",
    "combinations = itertools.product((False, True), DTClassifierNode.criteria)\n",
    "\n",
    "for use_gain_ratio, criterion in combinations:\n",
    "    tree_ = DecisionTreeClassifier(\n",
    "        criterion = criterion,\n",
    "        use_gain_ratio = use_gain_ratio, max_depth = 3\n",
    "    )\n",
    "    tree_.fit(X_train, R_train)\n",
    "    print(\"Metrics for tree trained using splits based on gain\",\n",
    "          \"ratio\" if use_gain_ratio else \"\", \"on\", criterion, \":\")\n",
    "    print(metrics.classification_report(R_test, tree_.predict(X_test)))"
   ]
  },
  {
   "cell_type": "code",
   "execution_count": 16,
   "metadata": {
    "id": "_OtbAEkrC-N1"
   },
   "outputs": [],
   "source": [
    "tree_ = DecisionTreeClassifier(\n",
    "    criterion = 'misclassification_error',\n",
    "    use_gain_ratio = False, max_depth = 3\n",
    ")\n",
    "tree_.fit(X_train, R_train)"
   ]
  },
  {
   "cell_type": "code",
   "execution_count": 17,
   "metadata": {
    "colab": {
     "base_uri": "https://localhost:8080/",
     "height": 628
    },
    "id": "ahiE1bpgaE6C",
    "outputId": "1765eb41-5c36-46bc-cbbf-435f8cd24940"
   },
   "outputs": [
    {
     "ename": "ExecutableNotFound",
     "evalue": "failed to execute PosixPath('dot'), make sure the Graphviz executables are on your systems' PATH",
     "output_type": "error",
     "traceback": [
      "\u001b[0;31m---------------------------------------------------------------------------\u001b[0m",
      "\u001b[0;31mFileNotFoundError\u001b[0m                         Traceback (most recent call last)",
      "\u001b[0;32m~/.local/lib/python3.9/site-packages/graphviz/backend/execute.py\u001b[0m in \u001b[0;36mrun_check\u001b[0;34m(cmd, input_lines, encoding, quiet, **kwargs)\u001b[0m\n\u001b[1;32m     78\u001b[0m                 \u001b[0mkwargs\u001b[0m\u001b[0;34m[\u001b[0m\u001b[0;34m'stdout'\u001b[0m\u001b[0;34m]\u001b[0m \u001b[0;34m=\u001b[0m \u001b[0mkwargs\u001b[0m\u001b[0;34m[\u001b[0m\u001b[0;34m'stderr'\u001b[0m\u001b[0;34m]\u001b[0m \u001b[0;34m=\u001b[0m \u001b[0msubprocess\u001b[0m\u001b[0;34m.\u001b[0m\u001b[0mPIPE\u001b[0m\u001b[0;34m\u001b[0m\u001b[0;34m\u001b[0m\u001b[0m\n\u001b[0;32m---> 79\u001b[0;31m             \u001b[0mproc\u001b[0m \u001b[0;34m=\u001b[0m \u001b[0m_run_input_lines\u001b[0m\u001b[0;34m(\u001b[0m\u001b[0mcmd\u001b[0m\u001b[0;34m,\u001b[0m \u001b[0minput_lines\u001b[0m\u001b[0;34m,\u001b[0m \u001b[0mkwargs\u001b[0m\u001b[0;34m=\u001b[0m\u001b[0mkwargs\u001b[0m\u001b[0;34m)\u001b[0m\u001b[0;34m\u001b[0m\u001b[0;34m\u001b[0m\u001b[0m\n\u001b[0m\u001b[1;32m     80\u001b[0m         \u001b[0;32melse\u001b[0m\u001b[0;34m:\u001b[0m\u001b[0;34m\u001b[0m\u001b[0;34m\u001b[0m\u001b[0m\n",
      "\u001b[0;32m~/.local/lib/python3.9/site-packages/graphviz/backend/execute.py\u001b[0m in \u001b[0;36m_run_input_lines\u001b[0;34m(cmd, input_lines, kwargs)\u001b[0m\n\u001b[1;32m     98\u001b[0m \u001b[0;32mdef\u001b[0m \u001b[0m_run_input_lines\u001b[0m\u001b[0;34m(\u001b[0m\u001b[0mcmd\u001b[0m\u001b[0;34m,\u001b[0m \u001b[0minput_lines\u001b[0m\u001b[0;34m,\u001b[0m \u001b[0;34m*\u001b[0m\u001b[0;34m,\u001b[0m \u001b[0mkwargs\u001b[0m\u001b[0;34m)\u001b[0m\u001b[0;34m:\u001b[0m\u001b[0;34m\u001b[0m\u001b[0;34m\u001b[0m\u001b[0m\n\u001b[0;32m---> 99\u001b[0;31m     \u001b[0mpopen\u001b[0m \u001b[0;34m=\u001b[0m \u001b[0msubprocess\u001b[0m\u001b[0;34m.\u001b[0m\u001b[0mPopen\u001b[0m\u001b[0;34m(\u001b[0m\u001b[0mcmd\u001b[0m\u001b[0;34m,\u001b[0m \u001b[0mstdin\u001b[0m\u001b[0;34m=\u001b[0m\u001b[0msubprocess\u001b[0m\u001b[0;34m.\u001b[0m\u001b[0mPIPE\u001b[0m\u001b[0;34m,\u001b[0m \u001b[0;34m**\u001b[0m\u001b[0mkwargs\u001b[0m\u001b[0;34m)\u001b[0m\u001b[0;34m\u001b[0m\u001b[0;34m\u001b[0m\u001b[0m\n\u001b[0m\u001b[1;32m    100\u001b[0m \u001b[0;34m\u001b[0m\u001b[0m\n",
      "\u001b[0;32m/usr/lib/python3.9/subprocess.py\u001b[0m in \u001b[0;36m__init__\u001b[0;34m(self, args, bufsize, executable, stdin, stdout, stderr, preexec_fn, close_fds, shell, cwd, env, universal_newlines, startupinfo, creationflags, restore_signals, start_new_session, pass_fds, user, group, extra_groups, encoding, errors, text, umask)\u001b[0m\n\u001b[1;32m    950\u001b[0m \u001b[0;34m\u001b[0m\u001b[0m\n\u001b[0;32m--> 951\u001b[0;31m             self._execute_child(args, executable, preexec_fn, close_fds,\n\u001b[0m\u001b[1;32m    952\u001b[0m                                 \u001b[0mpass_fds\u001b[0m\u001b[0;34m,\u001b[0m \u001b[0mcwd\u001b[0m\u001b[0;34m,\u001b[0m \u001b[0menv\u001b[0m\u001b[0;34m,\u001b[0m\u001b[0;34m\u001b[0m\u001b[0;34m\u001b[0m\u001b[0m\n",
      "\u001b[0;32m/usr/lib/python3.9/subprocess.py\u001b[0m in \u001b[0;36m_execute_child\u001b[0;34m(self, args, executable, preexec_fn, close_fds, pass_fds, cwd, env, startupinfo, creationflags, shell, p2cread, p2cwrite, c2pread, c2pwrite, errread, errwrite, restore_signals, gid, gids, uid, umask, start_new_session)\u001b[0m\n\u001b[1;32m   1822\u001b[0m                         \u001b[0merr_msg\u001b[0m \u001b[0;34m=\u001b[0m \u001b[0mos\u001b[0m\u001b[0;34m.\u001b[0m\u001b[0mstrerror\u001b[0m\u001b[0;34m(\u001b[0m\u001b[0merrno_num\u001b[0m\u001b[0;34m)\u001b[0m\u001b[0;34m\u001b[0m\u001b[0;34m\u001b[0m\u001b[0m\n\u001b[0;32m-> 1823\u001b[0;31m                     \u001b[0;32mraise\u001b[0m \u001b[0mchild_exception_type\u001b[0m\u001b[0;34m(\u001b[0m\u001b[0merrno_num\u001b[0m\u001b[0;34m,\u001b[0m \u001b[0merr_msg\u001b[0m\u001b[0;34m,\u001b[0m \u001b[0merr_filename\u001b[0m\u001b[0;34m)\u001b[0m\u001b[0;34m\u001b[0m\u001b[0;34m\u001b[0m\u001b[0m\n\u001b[0m\u001b[1;32m   1824\u001b[0m                 \u001b[0;32mraise\u001b[0m \u001b[0mchild_exception_type\u001b[0m\u001b[0;34m(\u001b[0m\u001b[0merr_msg\u001b[0m\u001b[0;34m)\u001b[0m\u001b[0;34m\u001b[0m\u001b[0;34m\u001b[0m\u001b[0m\n",
      "\u001b[0;31mFileNotFoundError\u001b[0m: [Errno 2] No such file or directory: PosixPath('dot')",
      "\nThe above exception was the direct cause of the following exception:\n",
      "\u001b[0;31mExecutableNotFound\u001b[0m                        Traceback (most recent call last)",
      "\u001b[0;32m/usr/lib/python3/dist-packages/IPython/core/formatters.py\u001b[0m in \u001b[0;36m__call__\u001b[0;34m(self, obj, include, exclude)\u001b[0m\n\u001b[1;32m    968\u001b[0m \u001b[0;34m\u001b[0m\u001b[0m\n\u001b[1;32m    969\u001b[0m             \u001b[0;32mif\u001b[0m \u001b[0mmethod\u001b[0m \u001b[0;32mis\u001b[0m \u001b[0;32mnot\u001b[0m \u001b[0;32mNone\u001b[0m\u001b[0;34m:\u001b[0m\u001b[0;34m\u001b[0m\u001b[0;34m\u001b[0m\u001b[0m\n\u001b[0;32m--> 970\u001b[0;31m                 \u001b[0;32mreturn\u001b[0m \u001b[0mmethod\u001b[0m\u001b[0;34m(\u001b[0m\u001b[0minclude\u001b[0m\u001b[0;34m=\u001b[0m\u001b[0minclude\u001b[0m\u001b[0;34m,\u001b[0m \u001b[0mexclude\u001b[0m\u001b[0;34m=\u001b[0m\u001b[0mexclude\u001b[0m\u001b[0;34m)\u001b[0m\u001b[0;34m\u001b[0m\u001b[0;34m\u001b[0m\u001b[0m\n\u001b[0m\u001b[1;32m    971\u001b[0m             \u001b[0;32mreturn\u001b[0m \u001b[0;32mNone\u001b[0m\u001b[0;34m\u001b[0m\u001b[0;34m\u001b[0m\u001b[0m\n\u001b[1;32m    972\u001b[0m         \u001b[0;32melse\u001b[0m\u001b[0;34m:\u001b[0m\u001b[0;34m\u001b[0m\u001b[0;34m\u001b[0m\u001b[0m\n",
      "\u001b[0;32m~/.local/lib/python3.9/site-packages/graphviz/jupyter_integration.py\u001b[0m in \u001b[0;36m_repr_mimebundle_\u001b[0;34m(self, include, exclude, **_)\u001b[0m\n\u001b[1;32m     96\u001b[0m         \u001b[0minclude\u001b[0m \u001b[0;34m=\u001b[0m \u001b[0mset\u001b[0m\u001b[0;34m(\u001b[0m\u001b[0minclude\u001b[0m\u001b[0;34m)\u001b[0m \u001b[0;32mif\u001b[0m \u001b[0minclude\u001b[0m \u001b[0;32mis\u001b[0m \u001b[0;32mnot\u001b[0m \u001b[0;32mNone\u001b[0m \u001b[0;32melse\u001b[0m \u001b[0;34m{\u001b[0m\u001b[0mself\u001b[0m\u001b[0;34m.\u001b[0m\u001b[0m_jupyter_mimetype\u001b[0m\u001b[0;34m}\u001b[0m\u001b[0;34m\u001b[0m\u001b[0;34m\u001b[0m\u001b[0m\n\u001b[1;32m     97\u001b[0m         \u001b[0minclude\u001b[0m \u001b[0;34m-=\u001b[0m \u001b[0mset\u001b[0m\u001b[0;34m(\u001b[0m\u001b[0mexclude\u001b[0m \u001b[0;32mor\u001b[0m \u001b[0;34m[\u001b[0m\u001b[0;34m]\u001b[0m\u001b[0;34m)\u001b[0m\u001b[0;34m\u001b[0m\u001b[0;34m\u001b[0m\u001b[0m\n\u001b[0;32m---> 98\u001b[0;31m         return {mimetype: getattr(self, method_name)()\n\u001b[0m\u001b[1;32m     99\u001b[0m                 \u001b[0;32mfor\u001b[0m \u001b[0mmimetype\u001b[0m\u001b[0;34m,\u001b[0m \u001b[0mmethod_name\u001b[0m \u001b[0;32min\u001b[0m \u001b[0mMIME_TYPES\u001b[0m\u001b[0;34m.\u001b[0m\u001b[0mitems\u001b[0m\u001b[0;34m(\u001b[0m\u001b[0;34m)\u001b[0m\u001b[0;34m\u001b[0m\u001b[0;34m\u001b[0m\u001b[0m\n\u001b[1;32m    100\u001b[0m                 if mimetype in include}\n",
      "\u001b[0;32m~/.local/lib/python3.9/site-packages/graphviz/jupyter_integration.py\u001b[0m in \u001b[0;36m<dictcomp>\u001b[0;34m(.0)\u001b[0m\n\u001b[1;32m     96\u001b[0m         \u001b[0minclude\u001b[0m \u001b[0;34m=\u001b[0m \u001b[0mset\u001b[0m\u001b[0;34m(\u001b[0m\u001b[0minclude\u001b[0m\u001b[0;34m)\u001b[0m \u001b[0;32mif\u001b[0m \u001b[0minclude\u001b[0m \u001b[0;32mis\u001b[0m \u001b[0;32mnot\u001b[0m \u001b[0;32mNone\u001b[0m \u001b[0;32melse\u001b[0m \u001b[0;34m{\u001b[0m\u001b[0mself\u001b[0m\u001b[0;34m.\u001b[0m\u001b[0m_jupyter_mimetype\u001b[0m\u001b[0;34m}\u001b[0m\u001b[0;34m\u001b[0m\u001b[0;34m\u001b[0m\u001b[0m\n\u001b[1;32m     97\u001b[0m         \u001b[0minclude\u001b[0m \u001b[0;34m-=\u001b[0m \u001b[0mset\u001b[0m\u001b[0;34m(\u001b[0m\u001b[0mexclude\u001b[0m \u001b[0;32mor\u001b[0m \u001b[0;34m[\u001b[0m\u001b[0;34m]\u001b[0m\u001b[0;34m)\u001b[0m\u001b[0;34m\u001b[0m\u001b[0;34m\u001b[0m\u001b[0m\n\u001b[0;32m---> 98\u001b[0;31m         return {mimetype: getattr(self, method_name)()\n\u001b[0m\u001b[1;32m     99\u001b[0m                 \u001b[0;32mfor\u001b[0m \u001b[0mmimetype\u001b[0m\u001b[0;34m,\u001b[0m \u001b[0mmethod_name\u001b[0m \u001b[0;32min\u001b[0m \u001b[0mMIME_TYPES\u001b[0m\u001b[0;34m.\u001b[0m\u001b[0mitems\u001b[0m\u001b[0;34m(\u001b[0m\u001b[0;34m)\u001b[0m\u001b[0;34m\u001b[0m\u001b[0;34m\u001b[0m\u001b[0m\n\u001b[1;32m    100\u001b[0m                 if mimetype in include}\n",
      "\u001b[0;32m~/.local/lib/python3.9/site-packages/graphviz/jupyter_integration.py\u001b[0m in \u001b[0;36m_repr_image_svg_xml\u001b[0;34m(self)\u001b[0m\n\u001b[1;32m    110\u001b[0m     \u001b[0;32mdef\u001b[0m \u001b[0m_repr_image_svg_xml\u001b[0m\u001b[0;34m(\u001b[0m\u001b[0mself\u001b[0m\u001b[0;34m)\u001b[0m \u001b[0;34m->\u001b[0m \u001b[0mstr\u001b[0m\u001b[0;34m:\u001b[0m\u001b[0;34m\u001b[0m\u001b[0;34m\u001b[0m\u001b[0m\n\u001b[1;32m    111\u001b[0m         \u001b[0;34m\"\"\"Return the rendered graph as SVG string.\"\"\"\u001b[0m\u001b[0;34m\u001b[0m\u001b[0;34m\u001b[0m\u001b[0m\n\u001b[0;32m--> 112\u001b[0;31m         \u001b[0;32mreturn\u001b[0m \u001b[0mself\u001b[0m\u001b[0;34m.\u001b[0m\u001b[0mpipe\u001b[0m\u001b[0;34m(\u001b[0m\u001b[0mformat\u001b[0m\u001b[0;34m=\u001b[0m\u001b[0;34m'svg'\u001b[0m\u001b[0;34m,\u001b[0m \u001b[0mencoding\u001b[0m\u001b[0;34m=\u001b[0m\u001b[0mSVG_ENCODING\u001b[0m\u001b[0;34m)\u001b[0m\u001b[0;34m\u001b[0m\u001b[0;34m\u001b[0m\u001b[0m\n\u001b[0m",
      "\u001b[0;32m~/.local/lib/python3.9/site-packages/graphviz/piping.py\u001b[0m in \u001b[0;36mpipe\u001b[0;34m(self, format, renderer, formatter, neato_no_op, quiet, engine, encoding)\u001b[0m\n\u001b[1;32m    102\u001b[0m             \u001b[0;34m'<?xml version='\u001b[0m\u001b[0;34m\u001b[0m\u001b[0;34m\u001b[0m\u001b[0m\n\u001b[1;32m    103\u001b[0m         \"\"\"\n\u001b[0;32m--> 104\u001b[0;31m         return self._pipe_legacy(format,\n\u001b[0m\u001b[1;32m    105\u001b[0m                                  \u001b[0mrenderer\u001b[0m\u001b[0;34m=\u001b[0m\u001b[0mrenderer\u001b[0m\u001b[0;34m,\u001b[0m\u001b[0;34m\u001b[0m\u001b[0;34m\u001b[0m\u001b[0m\n\u001b[1;32m    106\u001b[0m                                  \u001b[0mformatter\u001b[0m\u001b[0;34m=\u001b[0m\u001b[0mformatter\u001b[0m\u001b[0;34m,\u001b[0m\u001b[0;34m\u001b[0m\u001b[0;34m\u001b[0m\u001b[0m\n",
      "\u001b[0;32m~/.local/lib/python3.9/site-packages/graphviz/_tools.py\u001b[0m in \u001b[0;36mwrapper\u001b[0;34m(*args, **kwargs)\u001b[0m\n\u001b[1;32m    169\u001b[0m                               category=category)\n\u001b[1;32m    170\u001b[0m \u001b[0;34m\u001b[0m\u001b[0m\n\u001b[0;32m--> 171\u001b[0;31m             \u001b[0;32mreturn\u001b[0m \u001b[0mfunc\u001b[0m\u001b[0;34m(\u001b[0m\u001b[0;34m*\u001b[0m\u001b[0margs\u001b[0m\u001b[0;34m,\u001b[0m \u001b[0;34m**\u001b[0m\u001b[0mkwargs\u001b[0m\u001b[0;34m)\u001b[0m\u001b[0;34m\u001b[0m\u001b[0;34m\u001b[0m\u001b[0m\n\u001b[0m\u001b[1;32m    172\u001b[0m \u001b[0;34m\u001b[0m\u001b[0m\n\u001b[1;32m    173\u001b[0m         \u001b[0;32mreturn\u001b[0m \u001b[0mwrapper\u001b[0m\u001b[0;34m\u001b[0m\u001b[0;34m\u001b[0m\u001b[0m\n",
      "\u001b[0;32m~/.local/lib/python3.9/site-packages/graphviz/piping.py\u001b[0m in \u001b[0;36m_pipe_legacy\u001b[0;34m(self, format, renderer, formatter, neato_no_op, quiet, engine, encoding)\u001b[0m\n\u001b[1;32m    119\u001b[0m                      \u001b[0mengine\u001b[0m\u001b[0;34m:\u001b[0m \u001b[0mtyping\u001b[0m\u001b[0;34m.\u001b[0m\u001b[0mOptional\u001b[0m\u001b[0;34m[\u001b[0m\u001b[0mstr\u001b[0m\u001b[0;34m]\u001b[0m \u001b[0;34m=\u001b[0m \u001b[0;32mNone\u001b[0m\u001b[0;34m,\u001b[0m\u001b[0;34m\u001b[0m\u001b[0;34m\u001b[0m\u001b[0m\n\u001b[1;32m    120\u001b[0m                      encoding: typing.Optional[str] = None) -> typing.Union[bytes, str]:\n\u001b[0;32m--> 121\u001b[0;31m         return self._pipe_future(format,\n\u001b[0m\u001b[1;32m    122\u001b[0m                                  \u001b[0mrenderer\u001b[0m\u001b[0;34m=\u001b[0m\u001b[0mrenderer\u001b[0m\u001b[0;34m,\u001b[0m\u001b[0;34m\u001b[0m\u001b[0;34m\u001b[0m\u001b[0m\n\u001b[1;32m    123\u001b[0m                                  \u001b[0mformatter\u001b[0m\u001b[0;34m=\u001b[0m\u001b[0mformatter\u001b[0m\u001b[0;34m,\u001b[0m\u001b[0;34m\u001b[0m\u001b[0;34m\u001b[0m\u001b[0m\n",
      "\u001b[0;32m~/.local/lib/python3.9/site-packages/graphviz/piping.py\u001b[0m in \u001b[0;36m_pipe_future\u001b[0;34m(self, format, renderer, formatter, neato_no_op, quiet, engine, encoding)\u001b[0m\n\u001b[1;32m    147\u001b[0m             \u001b[0;32mif\u001b[0m \u001b[0mcodecs\u001b[0m\u001b[0;34m.\u001b[0m\u001b[0mlookup\u001b[0m\u001b[0;34m(\u001b[0m\u001b[0mencoding\u001b[0m\u001b[0;34m)\u001b[0m \u001b[0;32mis\u001b[0m \u001b[0mcodecs\u001b[0m\u001b[0;34m.\u001b[0m\u001b[0mlookup\u001b[0m\u001b[0;34m(\u001b[0m\u001b[0mself\u001b[0m\u001b[0;34m.\u001b[0m\u001b[0mencoding\u001b[0m\u001b[0;34m)\u001b[0m\u001b[0;34m:\u001b[0m\u001b[0;34m\u001b[0m\u001b[0;34m\u001b[0m\u001b[0m\n\u001b[1;32m    148\u001b[0m                 \u001b[0;31m# common case: both stdin and stdout need the same encoding\u001b[0m\u001b[0;34m\u001b[0m\u001b[0;34m\u001b[0m\u001b[0;34m\u001b[0m\u001b[0m\n\u001b[0;32m--> 149\u001b[0;31m                 \u001b[0;32mreturn\u001b[0m \u001b[0mself\u001b[0m\u001b[0;34m.\u001b[0m\u001b[0m_pipe_lines_string\u001b[0m\u001b[0;34m(\u001b[0m\u001b[0;34m*\u001b[0m\u001b[0margs\u001b[0m\u001b[0;34m,\u001b[0m \u001b[0mencoding\u001b[0m\u001b[0;34m=\u001b[0m\u001b[0mencoding\u001b[0m\u001b[0;34m,\u001b[0m \u001b[0;34m**\u001b[0m\u001b[0mkwargs\u001b[0m\u001b[0;34m)\u001b[0m\u001b[0;34m\u001b[0m\u001b[0;34m\u001b[0m\u001b[0m\n\u001b[0m\u001b[1;32m    150\u001b[0m             \u001b[0;32mtry\u001b[0m\u001b[0;34m:\u001b[0m\u001b[0;34m\u001b[0m\u001b[0;34m\u001b[0m\u001b[0m\n\u001b[1;32m    151\u001b[0m                 \u001b[0mraw\u001b[0m \u001b[0;34m=\u001b[0m \u001b[0mself\u001b[0m\u001b[0;34m.\u001b[0m\u001b[0m_pipe_lines\u001b[0m\u001b[0;34m(\u001b[0m\u001b[0;34m*\u001b[0m\u001b[0margs\u001b[0m\u001b[0;34m,\u001b[0m \u001b[0minput_encoding\u001b[0m\u001b[0;34m=\u001b[0m\u001b[0mself\u001b[0m\u001b[0;34m.\u001b[0m\u001b[0mencoding\u001b[0m\u001b[0;34m,\u001b[0m \u001b[0;34m**\u001b[0m\u001b[0mkwargs\u001b[0m\u001b[0;34m)\u001b[0m\u001b[0;34m\u001b[0m\u001b[0;34m\u001b[0m\u001b[0m\n",
      "\u001b[0;32m~/.local/lib/python3.9/site-packages/graphviz/backend/piping.py\u001b[0m in \u001b[0;36mpipe_lines_string\u001b[0;34m(engine, format, input_lines, encoding, renderer, formatter, neato_no_op, quiet)\u001b[0m\n\u001b[1;32m    210\u001b[0m     \u001b[0mkwargs\u001b[0m \u001b[0;34m=\u001b[0m \u001b[0;34m{\u001b[0m\u001b[0;34m'input_lines'\u001b[0m\u001b[0;34m:\u001b[0m \u001b[0minput_lines\u001b[0m\u001b[0;34m,\u001b[0m \u001b[0;34m'encoding'\u001b[0m\u001b[0;34m:\u001b[0m \u001b[0mencoding\u001b[0m\u001b[0;34m}\u001b[0m\u001b[0;34m\u001b[0m\u001b[0;34m\u001b[0m\u001b[0m\n\u001b[1;32m    211\u001b[0m \u001b[0;34m\u001b[0m\u001b[0m\n\u001b[0;32m--> 212\u001b[0;31m     \u001b[0mproc\u001b[0m \u001b[0;34m=\u001b[0m \u001b[0mexecute\u001b[0m\u001b[0;34m.\u001b[0m\u001b[0mrun_check\u001b[0m\u001b[0;34m(\u001b[0m\u001b[0mcmd\u001b[0m\u001b[0;34m,\u001b[0m \u001b[0mcapture_output\u001b[0m\u001b[0;34m=\u001b[0m\u001b[0;32mTrue\u001b[0m\u001b[0;34m,\u001b[0m \u001b[0mquiet\u001b[0m\u001b[0;34m=\u001b[0m\u001b[0mquiet\u001b[0m\u001b[0;34m,\u001b[0m \u001b[0;34m**\u001b[0m\u001b[0mkwargs\u001b[0m\u001b[0;34m)\u001b[0m\u001b[0;34m\u001b[0m\u001b[0;34m\u001b[0m\u001b[0m\n\u001b[0m\u001b[1;32m    213\u001b[0m     \u001b[0;32mreturn\u001b[0m \u001b[0mproc\u001b[0m\u001b[0;34m.\u001b[0m\u001b[0mstdout\u001b[0m\u001b[0;34m\u001b[0m\u001b[0;34m\u001b[0m\u001b[0m\n",
      "\u001b[0;32m~/.local/lib/python3.9/site-packages/graphviz/backend/execute.py\u001b[0m in \u001b[0;36mrun_check\u001b[0;34m(cmd, input_lines, encoding, quiet, **kwargs)\u001b[0m\n\u001b[1;32m     82\u001b[0m     \u001b[0;32mexcept\u001b[0m \u001b[0mOSError\u001b[0m \u001b[0;32mas\u001b[0m \u001b[0me\u001b[0m\u001b[0;34m:\u001b[0m\u001b[0;34m\u001b[0m\u001b[0;34m\u001b[0m\u001b[0m\n\u001b[1;32m     83\u001b[0m         \u001b[0;32mif\u001b[0m \u001b[0me\u001b[0m\u001b[0;34m.\u001b[0m\u001b[0merrno\u001b[0m \u001b[0;34m==\u001b[0m \u001b[0merrno\u001b[0m\u001b[0;34m.\u001b[0m\u001b[0mENOENT\u001b[0m\u001b[0;34m:\u001b[0m\u001b[0;34m\u001b[0m\u001b[0;34m\u001b[0m\u001b[0m\n\u001b[0;32m---> 84\u001b[0;31m             \u001b[0;32mraise\u001b[0m \u001b[0mExecutableNotFound\u001b[0m\u001b[0;34m(\u001b[0m\u001b[0mcmd\u001b[0m\u001b[0;34m)\u001b[0m \u001b[0;32mfrom\u001b[0m \u001b[0me\u001b[0m\u001b[0;34m\u001b[0m\u001b[0;34m\u001b[0m\u001b[0m\n\u001b[0m\u001b[1;32m     85\u001b[0m         \u001b[0;32mraise\u001b[0m\u001b[0;34m\u001b[0m\u001b[0;34m\u001b[0m\u001b[0m\n\u001b[1;32m     86\u001b[0m \u001b[0;34m\u001b[0m\u001b[0m\n",
      "\u001b[0;31mExecutableNotFound\u001b[0m: failed to execute PosixPath('dot'), make sure the Graphviz executables are on your systems' PATH"
     ]
    },
    {
     "data": {
      "text/plain": [
       "<graphviz.graphs.Digraph at 0x7f2ebcc5eb20>"
      ]
     },
     "execution_count": 17,
     "metadata": {},
     "output_type": "execute_result"
    }
   ],
   "source": [
    "export_graphviz(tree_)"
   ]
  },
  {
   "cell_type": "code",
   "execution_count": 18,
   "metadata": {
    "id": "2xJGYiBOhckr"
   },
   "outputs": [],
   "source": [
    "def gain(tree, i):\n",
    "    if tree.children_left[i] != -1:\n",
    "        l = tree.children_left[i]\n",
    "        r = tree.children_right[i]\n",
    "        l_wt = tree.n_node_samples[l] / tree.n_node_samples[i]\n",
    "        r_wt = tree.n_node_samples[r] / tree.n_node_samples[i]\n",
    "        weighted_impurity = l_wt * tree.impurity[l] + r_wt * tree.impurity[r]\n",
    "        return tree.impurity[i] - weighted_impurity\n",
    "    return 0\n",
    "\n",
    "def gini_gain(tree, i):\n",
    "    gini = [\n",
    "        1.0 - sum()\n",
    "    ]\n",
    "    if tree.children_left[i] != -1:\n",
    "        l = tree.children_left[i]\n",
    "        r = tree.children_right[i]\n",
    "        l_wt = tree.n_node_samples[l] / tree.n_node_samples[i]\n",
    "        r_wt = tree.n_node_samples[r] / tree.n_node_samples[i]\n",
    "        weighted_impurity = l_wt * tree.impurity[l] + r_wt * gini[r]\n",
    "        return gini[i] - weighted_impurity\n",
    "    return 0"
   ]
  },
  {
   "cell_type": "markdown",
   "metadata": {
    "id": "_kU6AlBtb_9E"
   },
   "source": [
    "### Comparing Gains across different impurity measures:"
   ]
  },
  {
   "cell_type": "code",
   "execution_count": 19,
   "metadata": {
    "id": "4jWwW_9yb_uD"
   },
   "outputs": [],
   "source": [
    "tree1 = DecisionTreeClassifier(\n",
    "    criterion = 'entropy',\n",
    "    use_gain_ratio = False, max_depth = 3\n",
    ")\n",
    "tree2 = DecisionTreeClassifier(\n",
    "    criterion = 'misclassification_error',\n",
    "    use_gain_ratio = False, max_depth = 3\n",
    ")\n",
    "\n",
    "classes = responses.unique()\n",
    "node = DTClassifierNode(classes, X_train, R_train)\n",
    "tree1_gains = tree1.split_node(node, classes)\n",
    "tree2_gains = tree2.split_node(node, classes)"
   ]
  },
  {
   "cell_type": "code",
   "execution_count": 20,
   "metadata": {
    "colab": {
     "base_uri": "https://localhost:8080/",
     "height": 314
    },
    "id": "nIYsO9gddQKL",
    "outputId": "cc472a07-19d8-44cc-ed23-23727d2611a2"
   },
   "outputs": [
    {
     "ename": "KeyError",
     "evalue": "'flipper_length_mm'",
     "output_type": "error",
     "traceback": [
      "\u001b[0;31m---------------------------------------------------------------------------\u001b[0m",
      "\u001b[0;31mKeyError\u001b[0m                                  Traceback (most recent call last)",
      "\u001b[0;32m<ipython-input-20-fae61df6fdce>\u001b[0m in \u001b[0;36m<module>\u001b[0;34m\u001b[0m\n\u001b[1;32m      1\u001b[0m pyplot.plot(\n\u001b[0;32m----> 2\u001b[0;31m     \u001b[0;34m[\u001b[0m \u001b[0;34m*\u001b[0m\u001b[0mtree1_gains\u001b[0m\u001b[0;34m[\u001b[0m\u001b[0;34m'flipper_length_mm'\u001b[0m\u001b[0;34m]\u001b[0m\u001b[0;34m.\u001b[0m\u001b[0mkeys\u001b[0m\u001b[0;34m(\u001b[0m\u001b[0;34m)\u001b[0m \u001b[0;34m]\u001b[0m\u001b[0;34m,\u001b[0m\u001b[0;34m\u001b[0m\u001b[0;34m\u001b[0m\u001b[0m\n\u001b[0m\u001b[1;32m      3\u001b[0m     \u001b[0;34m[\u001b[0m \u001b[0;34m*\u001b[0m\u001b[0mtree1_gains\u001b[0m\u001b[0;34m[\u001b[0m\u001b[0;34m'flipper_length_mm'\u001b[0m\u001b[0;34m]\u001b[0m\u001b[0;34m.\u001b[0m\u001b[0mvalues\u001b[0m\u001b[0;34m(\u001b[0m\u001b[0;34m)\u001b[0m \u001b[0;34m]\u001b[0m\u001b[0;34m,\u001b[0m\u001b[0;34m\u001b[0m\u001b[0;34m\u001b[0m\u001b[0m\n\u001b[1;32m      4\u001b[0m     \u001b[0mlabel\u001b[0m \u001b[0;34m=\u001b[0m \u001b[0;34m\"Information Gain\"\u001b[0m\u001b[0;34m\u001b[0m\u001b[0;34m\u001b[0m\u001b[0m\n\u001b[1;32m      5\u001b[0m )\n",
      "\u001b[0;31mKeyError\u001b[0m: 'flipper_length_mm'"
     ]
    }
   ],
   "source": [
    "pyplot.plot(\n",
    "    [ *tree1_gains['flipper_length_mm'].keys() ],\n",
    "    [ *tree1_gains['flipper_length_mm'].values() ],\n",
    "    label = \"Information Gain\"\n",
    ")\n",
    "pyplot.plot(\n",
    "    [ *tree2_gains['flipper_length_mm'].keys() ],\n",
    "    [ *tree2_gains['flipper_length_mm'].values() ],\n",
    "    label = \"Misclassification Error Gain\"\n",
    ")\n",
    "pyplot.title(\"Changes in Gain for different split points for flipper_length_mm\")\n",
    "pyplot.xlabel(\"Split point for flipper_length_mm\")\n",
    "pyplot.ylabel(\"Gain Value\")\n",
    "pyplot.legend()"
   ]
  },
  {
   "cell_type": "markdown",
   "metadata": {
    "id": "sFoFgpoJTRql"
   },
   "source": [
    "### Bibliography\n",
    "\n",
    "- Dataset - Horst AM, Hill AP, Gorman KB (2020). palmerpenguins: Palmer Archipelago (Antarctica) penguin data. R package version 0.1.0. https://allisonhorst.github.io/palmerpenguins/ (Raw data as CSV for use in Python: https://github.com/mcnakhaee/palmerpenguins). doi: https://doi.org/10.5281/zenodo.3960218."
   ]
  }
 ],
 "metadata": {
  "colab": {
   "collapsed_sections": [
    "hSx7TsZT1ktP",
    "ClzPZanI1VAi"
   ],
   "name": "ML Assignment - Decision Trees.ipynb",
   "provenance": []
  },
  "kernelspec": {
   "display_name": "Python 3",
   "language": "python",
   "name": "python3"
  },
  "language_info": {
   "codemirror_mode": {
    "name": "ipython",
    "version": 3
   },
   "file_extension": ".py",
   "mimetype": "text/x-python",
   "name": "python",
   "nbconvert_exporter": "python",
   "pygments_lexer": "ipython3",
   "version": "3.9.2"
  }
 },
 "nbformat": 4,
 "nbformat_minor": 1
}
